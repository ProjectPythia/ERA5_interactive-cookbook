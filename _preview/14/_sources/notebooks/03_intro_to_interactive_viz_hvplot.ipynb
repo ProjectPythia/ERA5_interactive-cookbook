{
 "cells": [
  {
   "cell_type": "markdown",
   "id": "e5b8ce18-19f4-4535-b764-684402d18275",
   "metadata": {},
   "source": [
    "<img src=\"images/ProjectPythia_Logo_Final-01-Blue.svg\" width=250 alt=\"Project Pythia Logo\"> \n",
    "\n",
    "# Creating a Basic Interactive Dashboard with `hvPlot`"
   ]
  },
  {
   "cell_type": "markdown",
   "id": "80641766-1b70-4e80-b684-047d99c052b5",
   "metadata": {},
   "source": [
    "## Overview\n",
    "\n",
    "ERA-5 Dataset is available from NCAR RDA in netcdf format. A subset of this dataset is processed into Zarr format and available from NCAR RDA endpoints. To learn how you can create Zarr files from NCAR RDA netcdf files, please see [this notebook](./05_data_preprocessing.ipynb).\n",
    "\n",
    "\n",
    "By the end of this notebook, you should be able to:\n",
    "* Understand the importance for interactive plots and the challenges associated with them\n",
    "* Use `hvPlot` to generate basic interactive plots with `Xarray`"
   ]
  },
  {
   "cell_type": "markdown",
   "id": "babd7594-e441-4405-9199-d04e2999259f",
   "metadata": {},
   "source": [
    "## Prerequisites\n",
    "\n",
    "\n",
    "| Concepts | Importance | Notes |\n",
    "| --- | --- | --- |\n",
    "| [Intro to Xarray](https://foundations.projectpythia.org/core/xarray.html) | Necessary | |\n",
    "\n",
    "- **Time to learn**: 30 minutes"
   ]
  },
  {
   "cell_type": "markdown",
   "id": "2cad7118-9932-4d79-8634-82c3004c73b7",
   "metadata": {},
   "source": [
    "## Imports"
   ]
  },
  {
   "cell_type": "code",
   "execution_count": null,
   "id": "59989a91-6889-4150-a7ba-ab86130c5f59",
   "metadata": {
    "tags": []
   },
   "outputs": [],
   "source": [
    "import xarray as xr\n",
    "import holoviews as hv\n",
    "from holoviews import opts\n",
    "\n",
    "hv.extension(\"bokeh\")\n"
   ]
  },
  {
   "cell_type": "markdown",
   "id": "079cf1a1-b66d-495b-a609-cca87ed55828",
   "metadata": {},
   "source": [
    "## Data\n",
    "\n",
    "As we mentioned above a subset of NCAR RDA data is available in Zarr format. "
   ]
  },
  {
   "cell_type": "code",
   "execution_count": null,
   "id": "0d2f20c5-1193-4958-9388-94847b90cf52",
   "metadata": {
    "tags": []
   },
   "outputs": [],
   "source": [
    "rda_url = 'https://data.rda.ucar.edu/'\n",
    "annual_means = rda_url + 'pythia_era5_24/annual_means/'\n",
    "xrds = xr.open_dataset(annual_means + \"temp_2m_annual_1940_2023.zarr\", engine= 'zarr')\n",
    "xrds.load()\n"
   ]
  },
  {
   "cell_type": "markdown",
   "id": "ab405068-8ad2-4f5c-bfdd-a39210a3db77",
   "metadata": {},
   "source": [
    "## Considerations for Interactive Plots\n",
    "\n",
    "Add some markdown text on some of the following ideas:\n",
    "* What are some reasons we want to make data visualuzation interactive?"
   ]
  },
  {
   "cell_type": "markdown",
   "id": "30179753-dff3-45eb-8814-781fc38514b5",
   "metadata": {},
   "source": [
    "## Baisc Interactivity using `hvPlot`\n",
    "\n",
    "The `hvPlot` package is a familiar and high level API for data exploration and visualuzation.\n",
    "\n",
    "\n",
    "\n",
    "<div style=\"text-align: left;\">\n",
    "    <img src=\"https://hvplot.holoviz.org/_images/diagram.svg\" width=\"900\">\n",
    "</div>\n"
   ]
  },
  {
   "cell_type": "markdown",
   "id": "406ef3ff-90d5-4322-86d8-0dcce428ccbd",
   "metadata": {},
   "source": [
    "One of the most powerfull features of `hvPlot` is that it provides an alternative plotting API that directly attaches to existing Python objects through the `.hvplot()` attribute. For the case of `Xarray`, importing `hvplot.xarray` adds a brand new set of plotting routines accessible either through `xr.DataArray.hvplot()` or `xr.Dataset.hvplot()`"
   ]
  },
  {
   "cell_type": "code",
   "execution_count": null,
   "id": "d580ec83-3619-4d14-97f7-41f6abd4360e",
   "metadata": {
    "tags": []
   },
   "outputs": [],
   "source": [
    "import hvplot.xarray"
   ]
  },
  {
   "cell_type": "markdown",
   "id": "8608ad85-559f-4712-92b5-051fde020066",
   "metadata": {},
   "source": [
    "Before using `hvPlot`, let's take a look at the default `Xarray` plotting methods."
   ]
  },
  {
   "cell_type": "code",
   "execution_count": null,
   "id": "984ad7f2-b8f3-425d-955e-1c0cd93fddc7",
   "metadata": {
    "tags": []
   },
   "outputs": [],
   "source": [
    "xrds['VAR_2T'].plot()"
   ]
  },
  {
   "cell_type": "markdown",
   "id": "c5aaa818-d5b1-4f00-9aaa-04ebbde55ade",
   "metadata": {},
   "source": [
    "We can replace the `.plot()` function call with `.hvplot()`. By default, `hvPlot` uses the `Bokeh` backend, which has naitive interactive tools, such as :\n",
    "* Panning\n",
    "* Box Select\n",
    "* Scroll Zoom\n",
    "* Saving\n",
    "* Resetting"
   ]
  },
  {
   "cell_type": "code",
   "execution_count": null,
   "id": "9237fe13-a42b-459d-835f-f6e6b2668b14",
   "metadata": {
    "tags": []
   },
   "outputs": [],
   "source": [
    "xrds['VAR_2T'].hvplot()"
   ]
  },
  {
   "cell_type": "markdown",
   "id": "6a05552d-80b9-4a64-900f-ede652640719",
   "metadata": {},
   "source": [
    "If we wanted to plot ..."
   ]
  },
  {
   "cell_type": "code",
   "execution_count": null,
   "id": "2ec04385-3eb7-422b-8969-9a2d433e1da0",
   "metadata": {
    "tags": []
   },
   "outputs": [],
   "source": [
    "xrds['VAR_2T'].isel(time=0).plot()"
   ]
  },
  {
   "cell_type": "markdown",
   "id": "72a72dd8-e0da-4768-bbfa-13c0c14ccdf1",
   "metadata": {},
   "source": [
    "Switching"
   ]
  },
  {
   "cell_type": "code",
   "execution_count": null,
   "id": "d58771bf-0917-4f52-b691-c55ae1b7d9eb",
   "metadata": {
    "tags": []
   },
   "outputs": [],
   "source": [
    "xrds['VAR_2T'].isel(time=0).hvplot()"
   ]
  },
  {
   "cell_type": "code",
   "execution_count": null,
   "id": "ba82b5d9-4ccc-414a-9210-f3525805e71a",
   "metadata": {},
   "outputs": [],
   "source": []
  },
  {
   "cell_type": "markdown",
   "id": "7cfa6367-0b18-4b66-a4fd-99bc467b141a",
   "metadata": {},
   "source": [
    "### Time Widget"
   ]
  },
  {
   "cell_type": "markdown",
   "id": "2f0d07e2-27bd-4c23-955a-a4b89ee360fa",
   "metadata": {},
   "source": [
    "Climate data typically comes with multiple timesteps. We can create a basic widget that allows us to seek through time by setting the `groupby='time'` parameter in our `.hvplot()` call. "
   ]
  },
  {
   "cell_type": "code",
   "execution_count": null,
   "id": "56c46384-a431-4576-a62f-332ff878b873",
   "metadata": {
    "tags": []
   },
   "outputs": [],
   "source": [
    "xrds['VAR_2T'].hvplot(groupby='time', widget_location=\"bottom\")"
   ]
  },
  {
   "cell_type": "markdown",
   "id": "7e2a3740-f71e-4275-acd6-19df39c56fde",
   "metadata": {},
   "source": [
    "You may notice that our colorbar is dynamically changing as we change our time steps. We can fix the colorbar by setting a `clim` value, which is a tuple of the minimum and maximum desired colorbar range.\n",
    "\n",
    "One suggestion is to use the minimum and maximum of the data variable you are visualuzing across time."
   ]
  },
  {
   "cell_type": "code",
   "execution_count": null,
   "id": "e831c93b-234a-4684-b0bb-f5bc1bbc908a",
   "metadata": {
    "tags": []
   },
   "outputs": [],
   "source": [
    "clim = (xrds['VAR_2T'].values.min(), xrds['VAR_2T'].values.max())"
   ]
  },
  {
   "cell_type": "code",
   "execution_count": null,
   "id": "4a93199b-9328-4c88-80ca-3d645e4d7e63",
   "metadata": {
    "tags": []
   },
   "outputs": [],
   "source": [
    "xrds['VAR_2T'].hvplot(clim=clim, groupby='time', widget_location=\"bottom\")"
   ]
  },
  {
   "cell_type": "markdown",
   "id": "e96aab84-1f1f-4f6c-8cd6-cabec345a748",
   "metadata": {},
   "source": [
    "You may have noticed that there is a slight lag when switching time steps. This is due to `hvPlot` plotting the full resolution of our dataset. We can instead rasterize the output by setting `rasterize=True`, which will significantly improve the perfromance of our interactive plot."
   ]
  },
  {
   "cell_type": "code",
   "execution_count": null,
   "id": "8928f979-f6c4-4160-b4c5-ba928688c9ba",
   "metadata": {
    "tags": []
   },
   "outputs": [],
   "source": [
    "xrds['VAR_2T'].hvplot(rasterize=True, clim=clim, groupby='time', widget_location=\"bottom\")"
   ]
  },
  {
   "cell_type": "markdown",
   "id": "599b4d58-b9dc-4e0c-ba48-ad45f2df2e24",
   "metadata": {},
   "source": [
    "### Animation Widget"
   ]
  },
  {
   "cell_type": "markdown",
   "id": "0769b0ec-074d-4d27-b30f-3b7f768b37a8",
   "metadata": {},
   "source": [
    "Another usefull interactive feature is animations. Instead of manually scrolling through time, we can set up a widget that lets us animate our data across time. This can be achieved by adding a Scrubber widget to our plot by setting `widget_type=\"scrubber\"`"
   ]
  },
  {
   "cell_type": "code",
   "execution_count": null,
   "id": "4b7b48f1-0a07-4b73-8f9c-8880dd25e5ab",
   "metadata": {
    "tags": []
   },
   "outputs": [],
   "source": [
    "xrds['VAR_2T'].hvplot(\n",
    "    rasterize=True,\n",
    "    groupby=\"time\",\n",
    "    widget_type=\"scrubber\",\n",
    "    widget_location=\"bottom\",\n",
    ")"
   ]
  },
  {
   "cell_type": "markdown",
   "id": "1ea872ce-ca2f-49a1-b6a5-220501fa47c9",
   "metadata": {},
   "source": [
    "## Creating a Dashboard"
   ]
  },
  {
   "cell_type": "markdown",
   "id": "bf7a62b4-884d-44c6-9bc6-35f55783f88a",
   "metadata": {},
   "source": [
    "### Dataset Widgets"
   ]
  },
  {
   "cell_type": "code",
   "execution_count": null,
   "id": "98301bdc-986a-42d6-ac9e-36b1b4371065",
   "metadata": {
    "tags": []
   },
   "outputs": [],
   "source": [
    "w_time = pn.widgets.IntSlider(name='Year', start=0, end=83)\n",
    "w_var = pn.widgets.Select(name='Data Variable', options=list(xrds.data_vars))\n",
    "\n",
    "dataset_controls = pn.WidgetBox(\n",
    "                                '## Dataset Controls', \n",
    "                                w_var, \n",
    "                                )\n",
    "dataset_controls"
   ]
  },
  {
   "cell_type": "markdown",
   "id": "f4145f20-79ef-43de-a216-5c0d10f014e8",
   "metadata": {
    "tags": []
   },
   "source": [
    "### Plotting Widgets"
   ]
  },
  {
   "cell_type": "code",
   "execution_count": null,
   "id": "d5f216f8-483e-4532-a53f-a7f00f5813f0",
   "metadata": {
    "tags": []
   },
   "outputs": [],
   "source": [
    "w_cmap = pn.widgets.Select(name='Colormap', options=['inferno', 'plasma', 'coolwarm'])\n",
    "\n",
    "\n",
    "w_plot_type = pn.widgets.Select(name='Plot Type', options=['Color Plot', 'Contour', 'Filled Contour'])\n",
    "\n",
    "\n",
    "plot_controls = pn.WidgetBox(\n",
    "                            '## Plot Controls',\n",
    "                            w_plot_type,\n",
    "                            w_cmap, \n",
    "                            )\n",
    "plot_controls"
   ]
  },
  {
   "cell_type": "markdown",
   "id": "ecf421bd-667d-489e-b2b9-6d8742f40805",
   "metadata": {},
   "source": [
    "### Animation Widgets"
   ]
  },
  {
   "cell_type": "code",
   "execution_count": null,
   "id": "d9bb6068-5511-4b42-9091-5a878af708a0",
   "metadata": {
    "tags": []
   },
   "outputs": [],
   "source": [
    "w_player = pn.widgets.Player(\n",
    "    value=0,\n",
    "    start=0,\n",
    "    end=83,\n",
    "    name=\"Year\",\n",
    "    loop_policy=\"loop\",\n",
    "    interval=300,\n",
    "    align=\"center\",\n",
    "    width_policy='fit'\n",
    ")\n",
    "w_player"
   ]
  },
  {
   "cell_type": "markdown",
   "id": "44c94d93-e8ec-4f07-a8c6-463df8ded3d8",
   "metadata": {},
   "source": [
    "### Plotting Function"
   ]
  },
  {
   "cell_type": "code",
   "execution_count": null,
   "id": "1c2a1e3c-5f10-47ea-8388-38fd2f6f4cd0",
   "metadata": {
    "tags": []
   },
   "outputs": [],
   "source": [
    "def plot_ds(time, var, cmap, plot_type):\n",
    "    clim = (xrds[var].values.min(), xrds[var].values.max())\n",
    "    \n",
    "    if plot_type == \"Color Plot\":\n",
    "        return xrds[var].isel(time=time).hvplot(cmap=cmap, \n",
    "                                                              title=str(f\"{var} year {time}\"),\n",
    "                                                              clim=clim,\n",
    "                                                              dynamic=False,\n",
    "                                                              rasterize=True,\n",
    "                                                              precompute=True,\n",
    "                                               ).opts(framewise=False)\n",
    "    \n",
    "    elif plot_type == \"Contour\":\n",
    "        return xrds[var].isel(time=time).hvplot.contour(cmap=cmap,\n",
    "                                          dynamic=False,\n",
    "                                          rasterize=True,\n",
    "                                          title=str(f\"{var} Year: {time}\"),\n",
    "                                          clim=clim,\n",
    "                                          precompute=True,).opts(framewise=False)\n",
    "    elif plot_type == \"Filled Contour\":\n",
    "        return xrds[var].isel(time=time).hvplot.contourf(cmap=cmap,\n",
    "                                          dynamic=False,\n",
    "                                          rasterize=True,\n",
    "                                          title=str(f\"{var} Year: {time}\"),\n",
    "                                          clim=(200, 300),\n",
    "                                          precompute=True,).opts(framewise=False)                 "
   ]
  },
  {
   "cell_type": "markdown",
   "id": "92a6d708-2383-4abd-bef5-b561f0cf86f1",
   "metadata": {},
   "source": [
    "### Putting it all Together"
   ]
  },
  {
   "cell_type": "code",
   "execution_count": null,
   "id": "2bba62bf-25d5-4827-9f1e-4aa98e8979fb",
   "metadata": {
    "tags": []
   },
   "outputs": [],
   "source": [
    "controls = pn.Column(dataset_controls, plot_controls)\n",
    "\n",
    "app = pn.Row(\n",
    "    controls,\n",
    "    pn.Column(pn.panel(\n",
    "        hv.DynamicMap(pn.bind(\n",
    "            plot_ds, \n",
    "            time=w_player,\n",
    "            var=w_var,\n",
    "            cmap=w_cmap,\n",
    "            plot_type = w_plot_type\n",
    "        )\n",
    "                     )\n",
    "    ),\n",
    "             w_player)\n",
    ")\n",
    "\n",
    "app"
   ]
  },
  {
   "cell_type": "code",
   "execution_count": null,
   "id": "3a2bb312-f141-4983-8bbe-076c6195387f",
   "metadata": {},
   "outputs": [],
   "source": []
  }
 ],
 "metadata": {
  "kernelspec": {
   "display_name": "Python 3 (ipykernel)",
   "language": "python",
   "name": "python3"
  },
  "language_info": {
   "codemirror_mode": {
    "name": "ipython",
    "version": 3
   },
   "file_extension": ".py",
   "mimetype": "text/x-python",
   "name": "python",
   "nbconvert_exporter": "python",
   "pygments_lexer": "ipython3",
   "version": "3.10.13"
  }
 },
 "nbformat": 4,
 "nbformat_minor": 5
}
