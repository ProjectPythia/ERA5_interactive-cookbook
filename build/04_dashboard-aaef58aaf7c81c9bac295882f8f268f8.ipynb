{
 "cells": [
  {
   "cell_type": "markdown",
   "id": "1ed2fbee-d7c3-40a7-af56-cb9cf8669670",
   "metadata": {},
   "source": [
    "# Creating an Interactive Dashboard using `hvPlot` and `Panel`"
   ]
  },
  {
   "cell_type": "markdown",
   "id": "34dbdefb-5cdc-4b3d-802a-3bbe94771cf3",
   "metadata": {},
   "source": [
    "---"
   ]
  },
  {
   "cell_type": "code",
   "execution_count": null,
   "id": "6fd3d4d1-f3bb-4c5d-8d1b-05e7432e2717",
   "metadata": {},
   "outputs": [],
   "source": [
    "import xarray as xr\n",
    "import holoviews as hv\n",
    "import panel as pn\n",
    "import hvplot.xarray\n",
    "from holoviews import opts\n",
    "\n",
    "pn.extension()\n"
   ]
  },
  {
   "cell_type": "markdown",
   "id": "cec3aac2-35c3-4745-a001-aad1c007a2b2",
   "metadata": {},
   "source": [
    "## Data"
   ]
  },
  {
   "cell_type": "markdown",
   "id": "81f61416",
   "metadata": {},
   "source": [
    "In this notebook, we are going to load annual mean dataset of 2-m temperature from the [ERA5 reanalysis](https://doi.org/10.24381/cds.adbb2d47) that we preprocessed in Zarr format. Please see the preprocessing notebooks for the required steps."
   ]
  },
  {
   "cell_type": "markdown",
   "id": "79d66865",
   "metadata": {},
   "source": []
  },
  {
   "cell_type": "code",
   "execution_count": null,
   "id": "935a789a-110d-4805-97f7-4ddb28aab20f",
   "metadata": {},
   "outputs": [],
   "source": [
    "rda_url = \"https://data.rda.ucar.edu/\"\n",
    "annual_means = rda_url + \"pythia_era5_24/annual_means/\"\n",
    "xrds = xr.open_dataset(annual_means + \"temp_2m_annual_1940_2023.zarr\", engine=\"zarr\")\n",
    "xrds"
   ]
  },
  {
   "cell_type": "code",
   "execution_count": null,
   "id": "539e125c-2adb-4794-8a88-c9f64743bed2",
   "metadata": {},
   "outputs": [],
   "source": [
    "# Select the time range of interest\n",
    "xrds = xrds.sel(time=slice('2017-01-01', '2023-12-31'))\n",
    "xrds.load();"
   ]
  },
  {
   "cell_type": "markdown",
   "id": "b8179dcb-35d5-4a60-a4ec-7d1e105d756b",
   "metadata": {},
   "source": [
    "## Panel Widgets\n",
    "\n",
    "Panel provides a variety of widgets that can be used to build interactive dashboards. In this notebook, we are going to use some of these widgets. For the complete list of widgets, please see the [Panel documentation](https://panel.holoviz.org/api/panel.widgets.html).\n",
    "\n",
    "The panel widgets that we are using are: \n",
    "- `pn.widgets.Select` for selecting the variable\n",
    "- `pn.widgets.DatePicker` for selecting the date\n",
    "- `pn.widgets.Player` for making time series animations"
   ]
  },
  {
   "cell_type": "code",
   "execution_count": null,
   "id": "8ba31298-49db-40a7-b350-af18f4af1eed",
   "metadata": {},
   "outputs": [],
   "source": [
    "\n",
    "w_var = pn.widgets.Select(name=\"Data Variable\", options=list(xrds.data_vars))\n",
    "\n",
    "dataset_controls = pn.WidgetBox(\n",
    "    \"## Dataset Controls\",\n",
    "    w_var,\n",
    ")\n",
    "dataset_controls"
   ]
  },
  {
   "cell_type": "markdown",
   "id": "713e9792",
   "metadata": {},
   "source": [
    "Now, let's create dropdown widgets for selecting the colormap and plot type.  "
   ]
  },
  {
   "cell_type": "code",
   "execution_count": null,
   "id": "ccd540e0-ab5d-4000-bd31-ca8cb2851e0c",
   "metadata": {},
   "outputs": [],
   "source": [
    "w_cmap = pn.widgets.Select(name=\"Colormap\", options=[\"inferno\", \"plasma\", \"coolwarm\"])\n",
    "\n",
    "\n",
    "w_plot_type = pn.widgets.Select(\n",
    "    name=\"Plot Type\", options=[\"Color Plot\", \"Contour\"]\n",
    ")\n",
    "\n",
    "\n",
    "plot_controls = pn.WidgetBox(\n",
    "    \"## Plot Controls\",\n",
    "    w_plot_type,\n",
    "    w_cmap,\n",
    ")\n",
    "plot_controls"
   ]
  },
  {
   "cell_type": "markdown",
   "id": "c0ae39d0",
   "metadata": {},
   "source": [
    "Now, let's put together all the controls and the plot in a panel layout using `pn.Row` and `pn.Column`:"
   ]
  },
  {
   "cell_type": "code",
   "execution_count": null,
   "id": "e80e4978",
   "metadata": {},
   "outputs": [],
   "source": [
    "controls = pn.Column(dataset_controls, plot_controls)\n",
    "controls"
   ]
  },
  {
   "cell_type": "code",
   "execution_count": null,
   "id": "105a7b77-65ee-494b-97a6-df3380da7cef",
   "metadata": {},
   "outputs": [],
   "source": [
    "w_player = pn.widgets.Player(\n",
    "    value=0,\n",
    "    start=0,\n",
    "    end=len(xrds.time) - 1,\n",
    "    name=\"Year\",\n",
    "    loop_policy=\"loop\",\n",
    "    interval=300,\n",
    "    align=\"center\",\n",
    "    width_policy=\"fit\",\n",
    ")\n",
    "w_player"
   ]
  },
  {
   "cell_type": "markdown",
   "id": "38a7ba16-6fce-4172-9b02-19ac9e136e58",
   "metadata": {},
   "source": [
    "## Plotting Function"
   ]
  },
  {
   "cell_type": "code",
   "execution_count": null,
   "id": "7aa8c290-097f-46bd-8265-c8f952b37ea5",
   "metadata": {},
   "outputs": [],
   "source": [
    "def plot_ds(time, var, cmap, plot_type):\n",
    "    clim = (xrds[var].values.min(), xrds[var].values.max())\n",
    "\n",
    "    if plot_type == \"Color Plot\":\n",
    "        return (\n",
    "            xrds[var]\n",
    "            .isel(time=time)\n",
    "            .hvplot(\n",
    "                cmap=cmap,\n",
    "                title=str(f\"{var} year {time}\"),\n",
    "                clim=clim,\n",
    "                dynamic=False,\n",
    "                rasterize=True,\n",
    "                precompute=True,\n",
    "            )\n",
    "            .opts(framewise=False)\n",
    "        )\n",
    "\n",
    "    elif plot_type == \"Contour\":\n",
    "        return (\n",
    "            xrds[var]\n",
    "            .isel(time=time)\n",
    "            .hvplot.contour(\n",
    "                cmap=cmap,\n",
    "                dynamic=False,\n",
    "                rasterize=True,\n",
    "                title=str(f\"{var} Year: {time}\"),\n",
    "                clim=clim,\n",
    "                precompute=True,\n",
    "            )\n",
    "            .opts(framewise=False)\n",
    "        )"
   ]
  },
  {
   "cell_type": "code",
   "execution_count": null,
   "id": "a55a2b57-ef02-4046-8534-f740e5bbb72e",
   "metadata": {},
   "outputs": [],
   "source": [
    "\n",
    "app = pn.Row(\n",
    "    controls,\n",
    "    pn.Column(\n",
    "        pn.panel(\n",
    "            hv.DynamicMap(\n",
    "                pn.bind(\n",
    "                    plot_ds,\n",
    "                    time=w_player,\n",
    "                    var=w_var,\n",
    "                    cmap=w_cmap,\n",
    "                    plot_type=w_plot_type,\n",
    "                )\n",
    "            )\n",
    "        ),\n",
    "        w_player,\n",
    "    ),\n",
    ").servable()\n",
    "\n",
    "app"
   ]
  },
  {
   "cell_type": "markdown",
   "id": "1c0f704e",
   "metadata": {},
   "source": [
    "Please note how the above dashboard is servable. You can deploy the dashboard by running the following command in the terminal:\n",
    "\n",
    "```bash\n",
    "panel serve --show 04_dashboard.ipynb --allow-websocket-origin=projectpythia.2i2c.cloud\n",
    "```\n",
    "\n",
    "This will open a new tab in your default web browser with the dashboard. The allow websocket origin flag is required to allow traffic to flow to the site. This should be update to reflect the base URL where the application is launched. A wildcard can be used, `*`, to allow traffic from any site to connect. \n",
    "\n",
    "On the Project Pythia 2i2c hosted JupyterHub the link to use to access the panel serve command is [https://projectpythia.2i2c.cloud/hub/user-redirect/proxy/5006/04_dashboard](https://projectpythia.2i2c.cloud/hub/user-redirect/proxy/5006/04_dashboard)"
   ]
  },
  {
   "cell_type": "code",
   "execution_count": null,
   "id": "74b23731-de3f-40f8-a477-afdf266cb6f3",
   "metadata": {},
   "outputs": [],
   "source": []
  }
 ],
 "metadata": {
  "kernelspec": {
   "display_name": "Python 3 (ipykernel)",
   "language": "python",
   "name": "python3"
  },
  "language_info": {
   "codemirror_mode": {
    "name": "ipython",
    "version": 3
   },
   "file_extension": ".py",
   "mimetype": "text/x-python",
   "name": "python",
   "nbconvert_exporter": "python",
   "pygments_lexer": "ipython3",
   "version": "3.11.7"
  }
 },
 "nbformat": 4,
 "nbformat_minor": 5
}
